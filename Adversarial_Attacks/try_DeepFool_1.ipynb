{
 "cells": [
  {
   "cell_type": "code",
   "execution_count": 2,
   "metadata": {},
   "outputs": [],
   "source": [
    "import os\n",
    "import os.path\n",
    "# import torch as torch #I AM USING PYTHORCH; SIMILAR WITH TENSORFLOW, JUST USUAL IMPORTS\n",
    "# import torch.nn as nn #I AM USING PYTHORCH; SIMILAR WITH TENSORFLOW, JUST USUAL IMPORTS\n",
    "# import torch.nn.functional as F #I AM USING PYTHORCH; SIMILAR WITH TENSORFLOW, JUST USUAL IMPORTS\n",
    "# import torch.optim as optim #I AM USING PYTHORCH; SIMILAR WITH TENSORFLOW, JUST USUAL IMPORTS\n",
    "import tensorflow as tf\n",
    "import numpy as np\n",
    "from art.utils import load_dataset\n",
    "from art.attacks import *\n",
    "from art.utils import load_dataset\n",
    "from art.classifiers import PyTorchClassifier\n",
    "from art.utils import load_mnist\n",
    "from art.classifiers import PyTorchClassifier\n",
    "from art.utils import load_mnist\n",
    "from art.utils import load_cifar10\n",
    "# import torchvision\n",
    "# import torchvision.transforms as transforms\n",
    "from sklearn.model_selection import train_test_split\n",
    "from sklearn.metrics import accuracy_score\n",
    "from matplotlib.pyplot import imshow"
   ]
  },
  {
   "cell_type": "markdown",
   "metadata": {},
   "source": [
    "parametri di configurazione"
   ]
  },
  {
   "cell_type": "code",
   "execution_count": null,
   "metadata": {},
   "outputs": [],
   "source": [
    "IMAGE=10 #DATO CHE HO UN ARRAY DI 10000 IMMAGINI, QUESTA E' L'IMMAGINE CONSIDERATA"
   ]
  },
  {
   "cell_type": "code",
   "execution_count": null,
   "metadata": {},
   "outputs": [],
   "source": [
    "#mnist #I AM USING THE FOLLOWING MODEL\n",
    "class Net(nn.Module):\n",
    "\tdef __init__(self):\n",
    "\t\tsuper(Net, self).__init__()\n",
    "\t\tself.conv_1 = nn.Conv2d(in_channels=1, out_channels=4, kernel_size=5, stride=1)\n",
    "\t\tself.conv_2 = nn.Conv2d(in_channels=4, out_channels=10, kernel_size=5, stride=1)\n",
    "\t\tself.fc_1 = nn.Linear(in_features=4 * 4 * 10, out_features=100)\n",
    "\t\tself.fc_2 = nn.Linear(in_features=100, out_features=10)\n",
    "\n",
    "\tdef forward(self, x):\n",
    "\t\tx = F.relu(self.conv_1(x))\n",
    "\t\tx = F.max_pool2d(x, 2, 2)\n",
    "\t\tx = F.relu(self.conv_2(x))\n",
    "\t\tx = F.max_pool2d(x, 2, 2)\n",
    "\t\tx = x.view(-1, 4 * 4 * 10)\n",
    "\t\tx = F.relu(self.fc_1(x))\n",
    "\t\tx = self.fc_2(x)\n",
    "\t\treturn x"
   ]
  },
  {
   "cell_type": "code",
   "execution_count": null,
   "metadata": {
    "scrolled": true
   },
   "outputs": [],
   "source": [
    "PATH = 'mnist.pth' #PATH TO THE MODEL, PREVIOUSLY TRAINED AND SAVED\n",
    "model = Net()\n",
    "(x_train, y_train), (x_test, y_test), min_pixel_value, max_pixel_value = load_dataset('mnist') #THIS LOADS THE MNIST DATASET.\n",
    "#THE ONLY IMPORTANT THINGS ARE:\n",
    "#the target image to be tested must be a numpy array of array, i.e.: i) convert image to numpy; ii) put into an array of 1 cell: [image]\n",
    "# min_pixel_value can be set to 0\n",
    "# max_pixel_value should be 1 or 255, depends on the image format\n",
    "\n",
    "x_test1 = np.swapaxes(x_test, 1, 3).astype(np.float32) #TO BE REMOVED IF AXES ARE NOT SWAPPED DURING TRAINING\n",
    "criterion = nn.CrossEntropyLoss() #TO BE CONFIGURED\n",
    "optimizer = optim.Adam(model.parameters(), lr=0.01) #TO BE CONFIGURED\n",
    "classifier = PyTorchClassifier(\n",
    "\tmodel=model,\n",
    "\tclip_values=(min_pixel_value, max_pixel_value),\n",
    "\tloss=criterion,\n",
    "\toptimizer=optimizer,\n",
    "\tinput_shape=(1, 28,28),\n",
    "\tnb_classes=10,\n",
    ")\n",
    "model.load_state_dict(torch.load(PATH)) #LOAD THE MODEL\n",
    "model.eval() #PUT INTO EVAL FORM"
   ]
  },
  {
   "cell_type": "markdown",
   "metadata": {},
   "source": [
    "Modelli caricati. Ora posso provare la modalità normale e attacco "
   ]
  },
  {
   "cell_type": "code",
   "execution_count": null,
   "metadata": {},
   "outputs": [],
   "source": [
    "#immagine normale\n",
    "imshow(np.asarray(x_test[IMAGE])) #CLEAN IMAGE"
   ]
  },
  {
   "cell_type": "code",
   "execution_count": null,
   "metadata": {},
   "outputs": [],
   "source": [
    "attack = DeepFool(classifier=classifier) #THIS LINE GENERATE THE DEEP FOOL ATTACK. SOME ALTERNATIVES:\n",
    "#FastGradientMethod CarliniL2Method NewtonFool DeepFool ElasticNet\n",
    "#ProjectedGradientDescentPyTorch\n",
    "#SpatialTransformation BasicIterativeMethod \n",
    "IMAGE_ADV = attack.generate([x_test1[IMAGE]], [y_test[IMAGE]])\n",
    "IMAGE_ADV1 = np.swapaxes(IMAGE_ADV, 1, 3).astype(np.float32)\n",
    "imshow(np.asarray(IMAGE_ADV1[0])) #SHOW ADVERSARIAL IMAGE"
   ]
  },
  {
   "cell_type": "code",
   "execution_count": null,
   "metadata": {},
   "outputs": [],
   "source": [
    "print(y_test[IMAGE]) #ground truth\n",
    "print(classifier.predict([x_test1[IMAGE]])) # PREDICT ON NORMAL IMAGE\n",
    "print(classifier.predict(IMAGE_ADV))#PREDICT ON ADVERSARIAL IMAGE"
   ]
  },
  {
   "cell_type": "code",
   "execution_count": null,
   "metadata": {},
   "outputs": [],
   "source": []
  }
 ],
 "metadata": {
  "kernelspec": {
   "name": "python380jvsc74a57bd06f12ac18679e9e01292e5ea615fbe93745d26d516d996fcb14b4c8e132612d69",
   "display_name": "Python 3.8.0 64-bit ('tfv1': conda)"
  },
  "language_info": {
   "codemirror_mode": {
    "name": "ipython",
    "version": 3
   },
   "file_extension": ".py",
   "mimetype": "text/x-python",
   "name": "python",
   "nbconvert_exporter": "python",
   "pygments_lexer": "ipython3",
   "version": "3.8.0"
  },
  "metadata": {
   "interpreter": {
    "hash": "6f12ac18679e9e01292e5ea615fbe93745d26d516d996fcb14b4c8e132612d69"
   }
  }
 },
 "nbformat": 4,
 "nbformat_minor": 4
}